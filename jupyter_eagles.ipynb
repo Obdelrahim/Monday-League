{
  "cells": [
    {
      "cell_type": "code",
      "source": [
        "pip install ydata_profiling"
      ],
      "metadata": {
        "id": "0n8Ic0B1ihgA"
      },
      "execution_count": null,
      "outputs": []
    },
    {
      "cell_type": "code",
      "source": [
        "pip install scikit-learn"
      ],
      "metadata": {
        "id": "R_E1VnPPxWri"
      },
      "execution_count": null,
      "outputs": []
    },
    {
      "cell_type": "code",
      "source": [
        "pip install Boruta"
      ],
      "metadata": {
        "id": "QJSjM22axjiu"
      },
      "execution_count": null,
      "outputs": []
    },
    {
      "cell_type": "code",
      "source": [
        "pip install BorutaShap"
      ],
      "metadata": {
        "id": "YWq76F_rxtTq"
      },
      "execution_count": null,
      "outputs": []
    },
    {
      "cell_type": "code",
      "source": [
        "pip install ipywidgets"
      ],
      "metadata": {
        "id": "v13162ngxyZ-"
      },
      "execution_count": null,
      "outputs": []
    },
    {
      "cell_type": "code",
      "source": [
        "pip install fitter"
      ],
      "metadata": {
        "id": "TCm9TpRFif_S"
      },
      "execution_count": null,
      "outputs": []
    },
    {
      "cell_type": "code",
      "source": [
        "pip install matplotlib==3.7.3"
      ],
      "metadata": {
        "id": "Vy1jteByhlUC"
      },
      "execution_count": null,
      "outputs": []
    },
    {
      "cell_type": "code",
      "execution_count": null,
      "metadata": {
        "cell_id": "88c9db2e2ab748eab81d136ee57008b9",
        "deepnote_cell_type": "code",
        "deepnote_to_be_reexecuted": false,
        "execution_millis": 12,
        "execution_start": 1697917856895,
        "source_hash": "718d755e",
        "id": "Fe0e1yqUgrDU"
      },
      "outputs": [],
      "source": [
        "# Libraries Install\n",
        "from fitter import Fitter\n",
        "import numpy as np\n",
        "import seaborn as sns\n",
        "import matplotlib.pyplot as plt\n",
        "import scipy as sp\n",
        "import statsmodels.api as sm\n",
        "import statsmodels.formula.api as smf\n",
        "import pandas as pd\n",
        "import scipy.stats as stats\n",
        "import requests\n",
        "from ydata_profiling import ProfileReport"
      ]
    },
    {
      "cell_type": "code",
      "execution_count": null,
      "metadata": {
        "cell_id": "4054156ac5f74a33990f0f9e13f445df",
        "deepnote_cell_type": "code",
        "deepnote_to_be_reexecuted": false,
        "execution_millis": 10,
        "execution_start": 1697917860427,
        "source_hash": "661a3d54",
        "id": "2SVgn5RqgrDY"
      },
      "outputs": [],
      "source": [
        "# df_cleaned = combined_df.dropna(axis=0, thresh=20)\n",
        "# df_cleaned['Offense']=df_cleaned['Offense'].fillna(0)\n",
        "# df_cleaned['Defense']=df_cleaned['Defense'].fillna(0)\n",
        "# df_cleaned['Win']=np.where(df_cleaned['Unnamed: 5_level_0']=='W',1,0)\n",
        "# df_cleaned['Unnamed: 8_level_0']=df_cleaned['Unnamed: 8_level_0'].fillna(0)\n",
        "# df_cleaned['Home_Games']=np.where(df_cleaned['Unnamed: 8_level_0']=='@',1,0)\n",
        "# df_cleaned=df_cleaned.drop(columns=['Unnamed: 8_level_0', 'Unnamed: 6_level_0'], axis=1)"
      ]
    },
    {
      "cell_type": "code",
      "execution_count": null,
      "metadata": {
        "cell_id": "aec5416c7ed848659a418e536a1541ee",
        "deepnote_cell_type": "code",
        "deepnote_to_be_reexecuted": false,
        "execution_millis": 22,
        "execution_start": 1697917861885,
        "source_hash": "90b6fef2",
        "id": "8eVvNOf9grDY"
      },
      "outputs": [],
      "source": [
        "# df_cleaned.to_csv('Eagles_Data_Final.csv')\n",
        "# Some header cleaning such that ther are no subheaders\n",
        "\n",
        "# eagles=pd.read_csv(\"/Users/omerabdelrahim/Downloads/Eagles_Data_Final.csv\", sep=\";\")\n",
        "# eagles['MOV']=eagles['TmScore']-eagles['OppScore']\n",
        "# eagles['MOT']=eagles['DTO']-eagles['OTO']\n",
        "# eagles=eagles.drop(['Rec'], axis=1)\n",
        "# eagles.to_csv('Eagles_10yr.csv')"
      ]
    },
    {
      "cell_type": "markdown",
      "metadata": {
        "cell_id": "351b424d62524f0aa5972bbce0016185",
        "deepnote_cell_type": "markdown",
        "id": "Bg0rx2BxgrDa"
      },
      "source": [
        "#1. Descriptive Analysis: Perform a univariate analysis following the steps below."
      ]
    },
    {
      "cell_type": "markdown",
      "metadata": {
        "cell_id": "24c0b4ca27c344f5ba84a5626c8a6400",
        "deepnote_cell_type": "markdown",
        "deepnote_to_be_reexecuted": false,
        "execution_millis": 72,
        "execution_start": 1697849556129,
        "source_hash": null,
        "id": "ZnbsGvGUgrDY"
      },
      "source": [
        "We will be analyzing data for the Philadelphia Eagles Football Team from the years 2013 to 2022. Our goal is to ultimately find out the most appropriate variables that contributed to Margin Of Victory (MOV) for the team."
      ]
    },
    {
      "cell_type": "markdown",
      "metadata": {
        "cell_id": "869d24404ef74d06ba68ea28fe46fdef",
        "deepnote_cell_type": "markdown",
        "deepnote_to_be_reexecuted": false,
        "execution_millis": 98,
        "execution_start": 1697576331071,
        "source_hash": "31bdba9a",
        "id": "YD9nXJ9lgrDZ"
      },
      "source": [
        "## (a) Begin by providing a descriptive analysis of your variables (include all predictors and response variable). This should include things like histograms, quantile plots, correlation plots, etc."
      ]
    },
    {
      "cell_type": "markdown",
      "source": [
        "### Variable Names:\n",
        "\n",
        "MOV= Margin of Victory\n",
        "\n",
        "MOT = Margin of Turnover\n",
        "\n",
        "O1stD = First Downs Gained\n",
        "\n",
        "D1stD = First Downs Allowed\n",
        "\n",
        "DRushY = Rush Yards Allowed\n",
        "\n",
        "ORushY = Rush Yards Gained\n",
        "\n",
        "Home_Games = Indicator Variable for whether the game was played at home\n",
        "\n",
        "EOffense = Expected Offensive Points\n",
        "\n",
        "EDefense = Expected Defensive Points\n",
        "\n",
        "ESpTms = Expected Specials Teams Points\n"
      ],
      "metadata": {
        "id": "V_btPHKBn-0N"
      }
    },
    {
      "cell_type": "code",
      "execution_count": null,
      "metadata": {
        "cell_id": "cd1246d52419443ba3bd80a28655ce60",
        "deepnote_cell_type": "code",
        "deepnote_to_be_reexecuted": false,
        "execution_millis": 546,
        "execution_start": 1697917866135,
        "source_hash": "150555a3",
        "id": "ttUap7OzgrDa"
      },
      "outputs": [],
      "source": [
        "eagles=pd.read_csv('Eagles_10yr (1).csv')\n",
        "eagles.describe()"
      ]
    },
    {
      "cell_type": "code",
      "execution_count": null,
      "metadata": {
        "cell_id": "35d1ede6f5184b49818c8cfd11d97ddf",
        "deepnote_cell_type": "code",
        "deepnote_to_be_reexecuted": false,
        "execution_millis": 42,
        "execution_start": 1697917742719,
        "source_hash": "823a06e9",
        "id": "-_zxT3nogrDb"
      },
      "outputs": [],
      "source": [
        "# Replace the commas in the data with periods\n",
        "eagles['EOffense'] = eagles.EOffense.str.replace(',', '.')\n",
        "eagles['EDefense'] = eagles.EDefense.str.replace(',', '.')\n",
        "eagles['ESpTms'] = eagles.ESpTms.str.replace(',', '.')"
      ]
    },
    {
      "cell_type": "code",
      "execution_count": null,
      "metadata": {
        "cell_id": "53ad0ea5055f44e88636c276c097440b",
        "deepnote_cell_type": "code",
        "deepnote_to_be_reexecuted": false,
        "execution_millis": 73,
        "execution_start": 1697917742720,
        "source_hash": "10df7fd3",
        "id": "LqSJtP5SgrDb"
      },
      "outputs": [],
      "source": [
        "# Convert the objects to floats\n",
        "eagles['EOffense'] = eagles.EOffense.astype(float)\n",
        "eagles['EDefense'] = eagles.EDefense.astype(float)\n",
        "eagles['ESpTms'] = eagles.ESpTms.astype(float)"
      ]
    },
    {
      "cell_type": "code",
      "execution_count": null,
      "metadata": {
        "cell_id": "fd4f7106880d4204b74a22f765f874a1",
        "deepnote_cell_type": "code",
        "deepnote_to_be_reexecuted": false,
        "execution_millis": 49,
        "execution_start": 1697917742720,
        "source_hash": "de51d0e4",
        "id": "n_Iq8aEZgrDb"
      },
      "outputs": [],
      "source": [
        "print(eagles.columns)"
      ]
    },
    {
      "cell_type": "code",
      "execution_count": null,
      "metadata": {
        "cell_id": "7be079b5e2ac42e4ac2d6ce461ee794d",
        "deepnote_cell_type": "code",
        "deepnote_to_be_reexecuted": false,
        "execution_millis": 195,
        "execution_start": 1697917742722,
        "source_hash": "8dd335ac",
        "id": "OmmLDCLngrDb"
      },
      "outputs": [],
      "source": [
        "print(type(eagles))"
      ]
    },
    {
      "cell_type": "code",
      "execution_count": null,
      "metadata": {
        "cell_id": "d74298f6c5824defbfb22ada78040934",
        "deepnote_cell_type": "code",
        "deepnote_to_be_reexecuted": false,
        "execution_millis": 198,
        "execution_start": 1697917742819,
        "source_hash": "e1e50c74",
        "id": "Z15gH-QOgrDc"
      },
      "outputs": [],
      "source": [
        "# Check for null values\n",
        "eagles.info()"
      ]
    },
    {
      "cell_type": "code",
      "execution_count": null,
      "metadata": {
        "cell_id": "a5e06dfb506143f0a34944e0b2addf0a",
        "deepnote_cell_type": "code",
        "deepnote_to_be_reexecuted": false,
        "execution_millis": 166,
        "execution_start": 1697917742820,
        "source_hash": "bac565ed",
        "id": "5766MqrrgrDc"
      },
      "outputs": [],
      "source": [
        "# Count the number of null values\n",
        "eagles.isnull().sum()"
      ]
    },
    {
      "cell_type": "code",
      "execution_count": null,
      "metadata": {
        "cell_id": "c82047ee3e944f71990272b83e4bae89",
        "deepnote_cell_type": "code",
        "deepnote_to_be_reexecuted": false,
        "execution_millis": 280,
        "execution_start": 1697917742878,
        "source_hash": "436e6b53",
        "id": "DmsdXiz1grDc"
      },
      "outputs": [],
      "source": [
        "# Initial linear model test\n",
        "model1 = smf.ols(formula='MOV~MOT+DRushY+ORushY+O1stD+D1stD+Home_Games', data=eagles)\n",
        "model1_results=model1.fit(cov_type='HC1')\n",
        "print(model1_results.summary())"
      ]
    },
    {
      "cell_type": "code",
      "execution_count": null,
      "metadata": {
        "cell_id": "c711c7ff7a344584aaaec8ad3424222c",
        "deepnote_cell_type": "code",
        "deepnote_to_be_reexecuted": false,
        "execution_millis": 3287,
        "execution_start": 1697917742937,
        "source_hash": "8de1583e",
        "id": "-50d6vY1grDc"
      },
      "outputs": [],
      "source": [
        "# Histograms and Density plots\n",
        "\n",
        "plt.figure(figsize = (10,6))\n",
        "sns.histplot(eagles.MOV, stat = \"density\")\n",
        "sns.kdeplot(eagles.MOV, color = \"red\")\n",
        "plt.title(\"Philadelphia Eagles Margin of Victory 2013-2022\")\n",
        "plt.xlabel(\"Margin of Victory\")\n",
        "plt.show()\n",
        "\n",
        "plt.figure(figsize = (10,6))\n",
        "sns.histplot(eagles.MOT, stat = \"density\")\n",
        "sns.kdeplot(eagles.MOT, color = \"red\")\n",
        "plt.title(\"Philadelphia Eagles Margin of Turnovers 2013-2022\")\n",
        "plt.xlabel(\"Margin of Turnovers\")\n",
        "plt.show()\n",
        "\n",
        "plt.figure(figsize = (10,6))\n",
        "sns.histplot(eagles.O1stD, stat = \"density\")\n",
        "sns.kdeplot(eagles.O1stD, color = \"red\")\n",
        "plt.title(\"Philadelphia Eagles 1st Downs Gained 2013-2022\")\n",
        "plt.xlabel(\"1st Downs Gained\")\n",
        "plt.show()\n",
        "\n",
        "plt.figure(figsize = (10,6))\n",
        "sns.histplot(eagles.D1stD, stat = \"density\")\n",
        "sns.kdeplot(eagles.D1stD, color = \"red\")\n",
        "plt.title(\"Philadelphia Eagles 1st Downs Allowed 2013-2022\")\n",
        "plt.xlabel(\"1st Downs Allowed\")\n",
        "plt.show()\n",
        "\n",
        "plt.figure(figsize = (10,6))\n",
        "sns.histplot(eagles.DRushY, stat = \"density\")\n",
        "sns.kdeplot(eagles.DRushY, color = \"red\")\n",
        "plt.title(\"Philadelphia Eagles Rush Yards Allowed 2013-2022\")\n",
        "plt.xlabel(\"Rush Yards Allowed\")\n",
        "plt.show()\n",
        "\n",
        "plt.figure(figsize = (10,6))\n",
        "sns.histplot(eagles.ORushY, stat = \"density\")\n",
        "sns.kdeplot(eagles.ORushY, color = \"red\")\n",
        "plt.title(\"Philadelphia Eagles Rush Yards Gained 2013-2022\")\n",
        "plt.xlabel(\"Rush Yards Gained\")\n",
        "plt.show()\n"
      ]
    },
    {
      "cell_type": "markdown",
      "source": [
        "The density curve on the above plots appears to show a normal distribution. The variables DRushY and ORushY appear to show more skewness compared to the rest of the variables. These might need to be transformed."
      ],
      "metadata": {
        "id": "tW92JLS-72Sq"
      }
    },
    {
      "cell_type": "code",
      "execution_count": null,
      "metadata": {
        "cell_id": "96e93491ad0b45a9a615c47c1fe26c46",
        "deepnote_cell_type": "code",
        "deepnote_to_be_reexecuted": true,
        "execution_millis": 1674,
        "execution_start": 1697907586682,
        "source_hash": "b7370ffd",
        "id": "8LeeP8tHgrDc"
      },
      "outputs": [],
      "source": [
        "# QQ-Plots\n",
        "\n",
        "stats.probplot(eagles.MOV, dist=\"norm\", plot=plt)\n",
        "plt.title(\"Philadelphia Eagles Margin of Victory 2013-2022\")\n",
        "plt.show()\n",
        "\n",
        "stats.probplot(eagles.MOT, dist=\"norm\", plot=plt)\n",
        "plt.title(\"Philadelphia Eagles Margin of Turnover 2013-2022\")\n",
        "plt.show()\n",
        "\n",
        "stats.probplot(eagles.O1stD, dist=\"norm\", plot=plt)\n",
        "plt.title(\"Philadelphia Eagles Margin of Turnover 2013-2022\")\n",
        "plt.show()\n",
        "\n",
        "stats.probplot(eagles.D1stD, dist=\"norm\", plot=plt)\n",
        "plt.title(\"Philadelphia Eagles Margin of Turnover 2013-2022\")\n",
        "plt.show()\n",
        "\n",
        "stats.probplot(eagles.DRushY, dist=\"norm\", plot=plt)\n",
        "plt.title(\"Philadelphia Eagles Margin of Turnover 2013-2022\")\n",
        "plt.show()\n",
        "\n",
        "stats.probplot(eagles.ORushY, dist=\"norm\", plot=plt)\n",
        "plt.title(\"Philadelphia Eagles Margin of Turnover 2013-2022\")\n",
        "plt.show()"
      ]
    },
    {
      "cell_type": "markdown",
      "source": [
        "The data in the six variables appears to be normal for the most part even though some deviations from the x=y line can be observed. More quantitative analysis is needed to conclude normality."
      ],
      "metadata": {
        "id": "kYLL-V-A-Z5Y"
      }
    },
    {
      "cell_type": "code",
      "execution_count": null,
      "metadata": {
        "cell_id": "29b7ceaeb0df4a79b82ad0a27a46670c",
        "deepnote_cell_type": "code",
        "deepnote_to_be_reexecuted": true,
        "execution_millis": 255,
        "execution_start": 1697915896519,
        "source_hash": "8c153185",
        "id": "B18oDRl1grDd"
      },
      "outputs": [],
      "source": [
        "# Correlation Plot\n",
        "r_vars=eagles[['MOT','MOV','O1stD','D1stD','ORushY','DRushY','Home_Games']]\n",
        "\n",
        "plt.figure(figsize=(13,7))\n",
        "data=r_vars\n",
        "c= data.corr()\n",
        "sns.heatmap(c,cmap=\"Blues\",annot=True,square = True)"
      ]
    },
    {
      "cell_type": "markdown",
      "source": [
        "As can be viewed in this correlation plot \"heatmap\" some of the strongest relative correlations are between MOV and MOT as well as between O1stD and ORushY and vice a versa for the defensive statistics"
      ],
      "metadata": {
        "id": "whitEobz-3fS"
      }
    },
    {
      "cell_type": "code",
      "execution_count": null,
      "metadata": {
        "cell_id": "150d267a8a34411492a6fdd12a88e690",
        "deepnote_cell_type": "code",
        "deepnote_to_be_reexecuted": true,
        "execution_millis": 17279,
        "execution_start": 1697907588367,
        "source_hash": "a3a9b9ff",
        "id": "EWIUVIwJgrDd"
      },
      "outputs": [],
      "source": [
        "# Pair Plot\n",
        "sns.pairplot(r_vars, kind='reg')"
      ]
    },
    {
      "cell_type": "markdown",
      "metadata": {
        "cell_id": "f80d0a78c05f4fe5a3a932e9f30d9731",
        "deepnote_cell_type": "markdown",
        "deepnote_to_be_reexecuted": false,
        "execution_millis": 97,
        "execution_start": 1697576331075,
        "source_hash": "82bc8237",
        "id": "MyPke-2AgrDd"
      },
      "source": [
        "## (b) Discuss your findings from doing an exploratory analysis using Pandas Profiling. Did you discover anything new?"
      ]
    },
    {
      "cell_type": "code",
      "execution_count": null,
      "metadata": {
        "cell_id": "69da77866f2e4d61a896fc6cbf7ff3ed",
        "deepnote_cell_type": "code",
        "deepnote_to_be_reexecuted": true,
        "execution_millis": 30478,
        "execution_start": 1697907614302,
        "source_hash": "cc839f24",
        "id": "5joI-a1CgrDd"
      },
      "outputs": [],
      "source": [
        "ProfileReport(r_vars)"
      ]
    },
    {
      "cell_type": "markdown",
      "metadata": {
        "cell_id": "122d3241e3b541d498ce778d26b50e95",
        "deepnote_cell_type": "markdown",
        "id": "laquL0hjgrDd"
      },
      "source": [
        "## (c) Estimate density distributions (e.g., Cullen & Frey) for all your variables, and show the plots with the respective fits."
      ]
    },
    {
      "cell_type": "markdown",
      "source": [],
      "metadata": {
        "id": "xzQkrnXQ0geW"
      }
    },
    {
      "cell_type": "code",
      "execution_count": null,
      "metadata": {
        "cell_id": "c33ab8fadf884a36a12955ddbe400f44",
        "deepnote_cell_type": "code",
        "deepnote_to_be_reexecuted": true,
        "execution_millis": 111,
        "execution_start": 1697907585942,
        "source_hash": "84dd43af",
        "id": "MhGZsmGD0hHa"
      },
      "outputs": [],
      "source": [
        "plt.subplot(1,3,1)\n",
        "plt.hist(eagles.O1stD, bins='fd')\n",
        "plt.subplot(1,3,2)\n",
        "plt.hist(eagles.MOT, bins='fd')\n",
        "plt.subplot(1,3,3)\n",
        "plt.hist(eagles.MOV, bins='fd')"
      ]
    },
    {
      "cell_type": "code",
      "execution_count": null,
      "metadata": {
        "cell_id": "76f5f78a1fc94080aff67dfd48845a91",
        "deepnote_cell_type": "code",
        "deepnote_to_be_reexecuted": true,
        "execution_millis": 902,
        "execution_start": 1697908736328,
        "source_hash": "803ad003",
        "id": "SYOhlh6VgrDd"
      },
      "outputs": [],
      "source": [
        "# We will be using MOV, MOT, EOffense, EDefense, ESpTms, DRushY,ORushY, O1stD, D1stD\n",
        "d_MOV = sns.kdeplot(eagles.MOV)\n",
        "plt.legend(['d_MOV'])\n",
        "plt.title('Density Distributions of MOV')\n",
        "plt.show()\n",
        "\n",
        "d_MOT = sns.kdeplot(eagles.MOT)\n",
        "plt.legend(['d_MOT'])\n",
        "plt.title('Density Distributions of MOT')\n",
        "plt.show()\n",
        "\n",
        "d_EOffense = sns.kdeplot(eagles.EOffense)\n",
        "plt.legend(['d_EOffense '])\n",
        "plt.title('Density Distributions of EOffense')\n",
        "plt.show()\n",
        "\n",
        "d_EDefense = sns.kdeplot(eagles.EDefense)\n",
        "plt.legend(['d_EDefense'])\n",
        "plt.title('Density Distributions of EDefense')\n",
        "plt.show()\n",
        "\n",
        "d_ESpTms = sns.kdeplot(eagles.ESpTms)\n",
        "plt.legend(['d_ESpTms'])\n",
        "plt.title('Density Distributions of ESpTms')\n",
        "plt.show()\n",
        "\n",
        "d_DRushY = sns.kdeplot(eagles.DRushY)\n",
        "plt.legend(['d_DRushY'])\n",
        "plt.title('Density Distributions of DRushY')\n",
        "plt.show()\n",
        "\n",
        "d_ORushY = sns.kdeplot(eagles.ORushY)\n",
        "plt.legend(['d_ORushY'])\n",
        "plt.title('Density Distributions of ORushY')\n",
        "plt.show()\n",
        "\n",
        "d_O1stD = sns.kdeplot(eagles.O1stD)\n",
        "plt.legend(['d_O1stD'])\n",
        "plt.title('Density Distributions of O1stD')\n",
        "plt.show()\n",
        "\n",
        "d_D1stD = sns.kdeplot(eagles.D1stD)\n",
        "plt.legend(['d_D1stD'])\n",
        "plt.title('Density Distributions of D1stD')\n",
        "plt.show()\n",
        "\n"
      ]
    },
    {
      "cell_type": "code",
      "source": [
        "fig = plt.figure(figsize = (12,5))\n",
        "ax1 = fig.add_subplot(2,3,1)\n",
        "ax2 = fig.add_subplot(2,3,2)\n",
        "ax3 = fig.add_subplot(2,3,3)\n",
        "ax4 = fig.add_subplot(2,3,4)\n",
        "ax5 = fig.add_subplot(2,3,5)\n",
        "ax6 = fig.add_subplot(2,3,6)\n",
        "\n",
        "ax1.hist(eagles.MOT, color = 'r')\n",
        "ax2.hist(eagles.MOV, color = 'g')\n",
        "ax3.hist(eagles.DRushY, color = 'b')\n",
        "ax4.hist(eagles.ORushY, color = 'y')\n",
        "ax5.hist(eagles.O1stD, color = 'purple')\n",
        "ax6.hist(eagles.D1stD, color = 'grey')"
      ],
      "metadata": {
        "id": "Byf9wjk4arpS"
      },
      "execution_count": null,
      "outputs": []
    },
    {
      "cell_type": "code",
      "execution_count": null,
      "metadata": {
        "cell_id": "76f5f78a1fc94080aff67dfd48845a91",
        "deepnote_cell_type": "code",
        "deepnote_to_be_reexecuted": true,
        "execution_millis": 902,
        "execution_start": 1697908736328,
        "source_hash": "803ad003",
        "id": "8VKdsiTIqB_v"
      },
      "outputs": [],
      "source": [
        "\n",
        "from fitter import Fitter\n",
        "f = Fitter(eagles.MOV)\n",
        "f.fit()\n",
        "f.summary()"
      ]
    },
    {
      "cell_type": "code",
      "source": [
        "f = Fitter(eagles.MOT)\n",
        "f.fit()\n",
        "f.summary()"
      ],
      "metadata": {
        "id": "Lz_1Xg4O-qS8"
      },
      "execution_count": null,
      "outputs": []
    },
    {
      "cell_type": "code",
      "source": [
        "f = Fitter(eagles.EOffense)\n",
        "f.fit()\n",
        "f.summary()"
      ],
      "metadata": {
        "id": "92_s6S3Zo_VT"
      },
      "execution_count": null,
      "outputs": []
    },
    {
      "cell_type": "code",
      "source": [
        "f = Fitter(eagles.EDefense)\n",
        "f.fit()\n",
        "f.summary()"
      ],
      "metadata": {
        "id": "liLGgZqP-9sb"
      },
      "execution_count": null,
      "outputs": []
    },
    {
      "cell_type": "code",
      "source": [
        "f = Fitter(eagles.ESpTms)\n",
        "f.fit()\n",
        "f.summary()"
      ],
      "metadata": {
        "id": "c-M6QH8U-9gk"
      },
      "execution_count": null,
      "outputs": []
    },
    {
      "cell_type": "code",
      "source": [
        "f = Fitter(eagles.DRushY)\n",
        "f.fit()\n",
        "f.summary()\n"
      ],
      "metadata": {
        "id": "8W4ifhHr-9FS"
      },
      "execution_count": null,
      "outputs": []
    },
    {
      "cell_type": "code",
      "source": [
        "f = Fitter(eagles.ORushY)\n",
        "f.fit()\n",
        "f.summary()"
      ],
      "metadata": {
        "id": "LZQ_ihAA_LTE"
      },
      "execution_count": null,
      "outputs": []
    },
    {
      "cell_type": "code",
      "source": [
        "f = Fitter(eagles.O1stD)\n",
        "f.fit()\n",
        "f.summary()"
      ],
      "metadata": {
        "id": "De4arTO0_LG3"
      },
      "execution_count": null,
      "outputs": []
    },
    {
      "cell_type": "code",
      "source": [
        "f = Fitter(eagles.D1stD)\n",
        "f.fit()\n",
        "f.summary()"
      ],
      "metadata": {
        "id": "TPjA5Bsb_K5I"
      },
      "execution_count": null,
      "outputs": []
    },
    {
      "cell_type": "code",
      "execution_count": null,
      "metadata": {
        "cell_id": "76f5f78a1fc94080aff67dfd48845a91",
        "deepnote_cell_type": "code",
        "deepnote_to_be_reexecuted": true,
        "execution_millis": 902,
        "execution_start": 1697908736328,
        "source_hash": "803ad003",
        "id": "UuAGb-nFpLPt"
      },
      "outputs": [],
      "source": [
        "# We will be using MOV, MOT, EOffense, EDefense, ESpTms, DRushY,ORushY, O1stD, D1stD\n",
        "d_MOT = sns.kdeplot(eagles.MOT)\n",
        "plt.legend(['d_MOT'])\n",
        "plt.title('Density Distributions of Chose Variables')\n",
        "plt.show()\n"
      ]
    },
    {
      "cell_type": "code",
      "execution_count": null,
      "metadata": {
        "cell_id": "af8436c2badb4a41ab96acbba034cb2a",
        "deepnote_cell_type": "code",
        "deepnote_to_be_reexecuted": true,
        "scrolled": true,
        "source_hash": "6a8ef978",
        "id": "XUIh-5u2grDd"
      },
      "outputs": [],
      "source": [
        "plt.figure(figsize = (10,6))\n",
        "sns.histplot(eagles.ORushY, stat = \"density\")\n",
        "sns.kdeplot(eagles.ORushY, color = \"red\")"
      ]
    },
    {
      "cell_type": "code",
      "execution_count": null,
      "metadata": {
        "id": "ABbjcCjtgrDd"
      },
      "outputs": [],
      "source": [
        "pd.set_option('display.max_columns', 26)\n",
        "pd.set_option('display.max_rows', 8)\n",
        "eagles.describe()"
      ]
    },
    {
      "cell_type": "markdown",
      "metadata": {
        "cell_id": "28934dcd69bf4986b97d5ad2573a2af8",
        "deepnote_cell_type": "code",
        "deepnote_to_be_reexecuted": true,
        "execution_millis": 873237,
        "execution_start": 1697912019564,
        "source_hash": "a432b92f",
        "id": "R2NzMUW9grDe"
      },
      "source": [
        "'''f = Fitter(eagles.MOV)\n",
        "f.fit()\n",
        "f.summary()\n",
        "\n",
        "a = Fitter(eagles.MOT)\n",
        "a.fit()\n",
        "a.summary()\n",
        "\n",
        "b = Fitter(eagles.O1stD)\n",
        "b.fit()\n",
        "b.summary()\n",
        "\n",
        "c = Fitter(eagles.D1stD)\n",
        "c.fit()\n",
        "c.summary()\n",
        "\n",
        "d = Fitter(eagles.ORushY)\n",
        "d.fit()\n",
        "d.summary()\n",
        "\n",
        "e = Fitter(eagles.DRushY)\n",
        "e.fit()\n",
        "e.summary()\n",
        "'''''''"
      ]
    },
    {
      "cell_type": "markdown",
      "metadata": {
        "cell_id": "ee4bac9597cd4fa1b1f74d0c0f5a8f1b",
        "deepnote_cell_type": "markdown",
        "deepnote_to_be_reexecuted": true,
        "source_hash": null,
        "id": "xXTs_ua5grDe"
      },
      "source": [
        "## (d) Identify if there are any non-linearities within your variables. What transformations should you perform to make them linear? What would happen if you included nonlinear variables in your regression models without transforming them first?"
      ]
    },
    {
      "cell_type": "code",
      "source": [],
      "metadata": {
        "id": "P2iAlzHplt5e"
      },
      "execution_count": null,
      "outputs": []
    },
    {
      "cell_type": "code",
      "execution_count": null,
      "metadata": {
        "cell_id": "c7ee2904aeeb4c3fbed14d3c5cc4b470",
        "deepnote_cell_type": "code",
        "deepnote_to_be_reexecuted": true,
        "execution_millis": 21250,
        "execution_start": 1697913958523,
        "source_hash": "d4702ab",
        "id": "KdccWnW7grDe"
      },
      "outputs": [],
      "source": [
        "# The variables selected do not appear to show any non-linearities\n",
        "import scipy\n",
        "\n",
        "\n",
        "bc_DRY,lambda_DRY = scipy.stats.boxcox(eagles[\"DRushY\"])\n",
        "print(lambda_DRY)\n",
        "\n",
        "sns.histplot(eagles[\"DRushY\"])\n",
        "plt.title(\"Original DRushY\")\n",
        "plt.show()\n",
        "\n",
        "sns.histplot(bc_DRY)\n",
        "plt.title(\"Box-Cox Transformed: DRushY\")\n",
        "plt.show()\n",
        "\n",
        "bc_ORY,lambda_ORY = scipy.stats.boxcox(eagles[\"ORushY\"])\n",
        "print(lambda_ORY)\n",
        "\n",
        "sns.histplot(eagles[\"ORushY\"])\n",
        "plt.title(\"Original ORushY\")\n",
        "plt.show()\n",
        "\n",
        "sns.histplot(bc_ORY)\n",
        "plt.title(\"Box-Cox Transformed: ORushY\")\n",
        "plt.show()\n"
      ]
    },
    {
      "cell_type": "code",
      "execution_count": null,
      "metadata": {
        "id": "V5jL95cwgrDe"
      },
      "outputs": [],
      "source": [
        "eagles['BCORY']=bc_ORY\n",
        "eagles['BCDRY']=bc_DRY\n",
        "r_vars=eagles[['MOT','MOV','O1stD','D1stD','BCORY','BCDRY','Home_Games']]"
      ]
    },
    {
      "cell_type": "code",
      "execution_count": null,
      "metadata": {
        "cell_id": "f7b137337bac4638a45de3875130c77a",
        "deepnote_cell_type": "code",
        "deepnote_to_be_reexecuted": true,
        "source_hash": "b623e53d",
        "id": "N_7mhTQDgrDe"
      },
      "outputs": [],
      "source": [
        "# Graphical Represenation of the transformed variables\n",
        "sns.lmplot(data=eagles, x='BCORY', y='MOV', line_kws={'color':'red'}, lowess=False, height=5, aspect=1)\n",
        "plt.grid()\n",
        "sns.lmplot(data=eagles, x='BCDRY', y='MOV', line_kws={'color':'green'}, lowess=False, height=5, aspect=1)\n",
        "plt.grid()"
      ]
    },
    {
      "cell_type": "code",
      "execution_count": null,
      "metadata": {
        "cell_id": "770c2bd7758745399fd6239899b736ce",
        "deepnote_cell_type": "code",
        "deepnote_to_be_reexecuted": true,
        "execution_millis": 196528,
        "execution_start": 1697914329026,
        "source_hash": "28cfd85f",
        "id": "5K8bgWfBgrDe"
      },
      "outputs": [],
      "source": [
        "r_vars=eagles[['MOT','MOV','O1stD','D1stD','BCORY','BCDRY','Home_Games']]\n",
        "# Pair Plot\n",
        "# specify the column to include or exclude\n",
        "sns.pairplot(r_vars, kind='reg')"
      ]
    },
    {
      "cell_type": "markdown",
      "metadata": {
        "cell_id": "c9b9c87d775e44cfafda7c59b8614e2c",
        "deepnote_cell_type": "markdown",
        "deepnote_to_be_reexecuted": true,
        "source_hash": null,
        "id": "ZwRdAa0KgrDe"
      },
      "source": [
        "##(e) Comment on any outliers and/or unusual features of your variables."
      ]
    },
    {
      "cell_type": "code",
      "execution_count": null,
      "metadata": {
        "cell_id": "d55ac0c053614c8cb5c365c5cbf6c841",
        "deepnote_cell_type": "code",
        "deepnote_to_be_reexecuted": true,
        "execution_millis": 84,
        "execution_start": 1697907644464,
        "source_hash": "3be658ec",
        "id": "cEjS6p0KgrDe"
      },
      "outputs": [],
      "source": [
        "# Outliers\n",
        "sns.lmplot(data = eagles, x = 'MOT', y = 'MOV')\n",
        "plt.title(\"MOT Regressed\")\n",
        "\n",
        "\n",
        "sns.lmplot(data = eagles, x = 'DRushY', y = 'MOV')\n",
        "plt.title(\"DRushY Regressed\")\n",
        "\n",
        "\n",
        "sns.lmplot(data = eagles, x = 'ORushY', y = 'MOV')\n",
        "plt.title(\"ORushY Regressed\")\n",
        "\n",
        "sns.lmplot(data = eagles, x = 'O1stD', y = 'MOV')\n",
        "plt.title(\"O1stD Regressed\")\n",
        "\n",
        "\n",
        "sns.lmplot(data = eagles, x = 'D1stD', y = 'MOV')\n",
        "plt.title(\"D1st Regressed\")\n",
        "\n",
        "plt.show()\n"
      ]
    },
    {
      "cell_type": "markdown",
      "metadata": {
        "cell_id": "fe5406c849c34e74b15a38710e662417",
        "deepnote_cell_type": "markdown",
        "deepnote_to_be_reexecuted": false,
        "execution_millis": 209,
        "execution_start": 1697576331099,
        "source_hash": "4d509253",
        "id": "Cv0GVpY-grDe"
      },
      "source": [
        "## (f) If you have any NAs, impute them using any of the methods discussed in class but make sure to justify your choice."
      ]
    },
    {
      "cell_type": "markdown",
      "source": [
        "The above plots show several outliers."
      ],
      "metadata": {
        "id": "DzlhX1Z-vL8O"
      }
    },
    {
      "cell_type": "code",
      "source": [
        "# Boxplots to show outliers\n",
        "plt.boxplot(eagles.MOV)\n",
        "plt.grid"
      ],
      "metadata": {
        "id": "yG5NSr7_vkUG"
      },
      "execution_count": null,
      "outputs": []
    },
    {
      "cell_type": "markdown",
      "source": [
        "The above box plot clearly indicates the presence of outliers."
      ],
      "metadata": {
        "id": "SFqGy1Fgv2Xk"
      }
    },
    {
      "cell_type": "code",
      "execution_count": null,
      "metadata": {
        "cell_id": "d82da8e32ba4470f973ba50f6d713aad",
        "deepnote_cell_type": "code",
        "deepnote_to_be_reexecuted": true,
        "execution_millis": 82,
        "execution_start": 1697907644465,
        "source_hash": "bb9a1d7f",
        "id": "mZKvSVitgrDe"
      },
      "outputs": [],
      "source": [
        "# The variables used in the initial analysis do not have missing values"
      ]
    },
    {
      "cell_type": "markdown",
      "metadata": {
        "cell_id": "9a2e8d3b3e3241f6af276ca80ded45d5",
        "deepnote_cell_type": "markdown",
        "deepnote_to_be_reexecuted": true,
        "source_hash": null,
        "id": "GydYPpvhgrDl"
      },
      "source": [
        "# 2. Variable Selection:"
      ]
    },
    {
      "cell_type": "markdown",
      "metadata": {
        "cell_id": "3dba67384713426cbc4586715f7df6b5",
        "deepnote_cell_type": "markdown",
        "id": "1KcJlPz5grDm"
      },
      "source": [
        "## (a) Using the Boruta Algorithm identify the top 2 predictors"
      ]
    },
    {
      "cell_type": "code",
      "execution_count": null,
      "metadata": {
        "cell_id": "677fad158a084082b7611ef2aea575e9",
        "deepnote_cell_type": "code",
        "deepnote_to_be_reexecuted": true,
        "execution_millis": 2011,
        "execution_start": 1697915469390,
        "source_hash": "2b89499b",
        "id": "f2KQ1qWxgrDm"
      },
      "outputs": [],
      "source": [
        "from BorutaShap import BorutaShap\n",
        "\n",
        "from sklearn.ensemble import RandomForestRegressor"
      ]
    },
    {
      "cell_type": "code",
      "execution_count": null,
      "metadata": {
        "cell_id": "704d1b82d3144e1db588bdc1e6691485",
        "deepnote_cell_type": "code",
        "deepnote_to_be_reexecuted": true,
        "execution_millis": 11,
        "execution_start": 1697916447262,
        "source_hash": "65421f2f",
        "id": "gZwEtNiAgrDm"
      },
      "outputs": [],
      "source": [
        "boruta_data = eagles[[ 'MOV','O1stD','BCORY','D1stD','BCDRY','MOT', 'Home_Games']].copy()"
      ]
    },
    {
      "cell_type": "code",
      "execution_count": null,
      "metadata": {
        "cell_id": "10e3bbb3558d4abebfadbcfa92156fe7",
        "deepnote_cell_type": "code",
        "deepnote_to_be_reexecuted": true,
        "source_hash": "a26a0aa1",
        "id": "fryO_5uegrDm"
      },
      "outputs": [],
      "source": [
        "x = boruta_data.iloc[:,1:]"
      ]
    },
    {
      "cell_type": "code",
      "execution_count": null,
      "metadata": {
        "cell_id": "be7f6ac87586436a908500ba5991849f",
        "deepnote_cell_type": "code",
        "deepnote_to_be_reexecuted": true,
        "execution_millis": 64086,
        "execution_start": 1697916463936,
        "source_hash": "446cec66",
        "id": "7W7ok5J1grDm"
      },
      "outputs": [],
      "source": [
        "x = boruta_data.iloc[:, 1:]\n",
        "y = boruta_data['MOV']\n",
        "Feature_Selector = BorutaShap(importance_measure='shap', classification=False)\n",
        "Feature_Selector.fit(X=x, y=y, n_trials=100, random_state=0)\n",
        "Feature_Selector.plot(which_features='all')"
      ]
    },
    {
      "cell_type": "code",
      "execution_count": null,
      "metadata": {
        "cell_id": "64ac57ee5ce6475094975d9302796050",
        "deepnote_cell_type": "code",
        "deepnote_table_loading": false,
        "deepnote_table_state": {
          "filters": [],
          "pageIndex": 0,
          "pageSize": 10,
          "sortBy": []
        },
        "deepnote_to_be_reexecuted": true,
        "execution_millis": 307,
        "execution_start": 1697916547823,
        "source_hash": "c9f06e73",
        "id": "vqPgHxFbgrDm"
      },
      "outputs": [],
      "source": [
        "Feature_Selector.Subset()"
      ]
    },
    {
      "cell_type": "code",
      "source": [
        "from sklearn.ensemble import RandomForestClassifier\n",
        "from boruta import BorutaPy\n",
        "x = boruta_data.iloc[:, 1:]\n",
        "y = boruta_data['MOV']\n",
        "xCols = x.columns.tolist()\n",
        "\n",
        "currentTrainX = x.to_numpy()\n",
        "currentTrainY = y.to_numpy().ravel()\n",
        "\n",
        "forest = RandomForestRegressor(n_jobs=-1, max_depth = 5)\n",
        "forest.fit(currentTrainX, currentTrainY)"
      ],
      "metadata": {
        "id": "cWave9mGVMdL"
      },
      "execution_count": null,
      "outputs": []
    },
    {
      "cell_type": "code",
      "source": [
        "np.int = int\n",
        "np.float = float\n",
        "np.bool = bool\n",
        "boruta = BorutaPy(forest, n_estimators='auto', verbose=2, random_state=1)\n",
        "boruta.fit(currentTrainX, currentTrainY)\n",
        "\n",
        "featureSupport = list((zip(xCols, boruta.support_)))\n",
        "featureSupport"
      ],
      "metadata": {
        "id": "IT7JrnjZYWAE"
      },
      "execution_count": null,
      "outputs": []
    },
    {
      "cell_type": "code",
      "source": [
        "# Ranking Boruta results\n",
        "boruta.ranking_\n",
        "# for better visualization use of the boruta ranking\n",
        "featureRanks = list(zip(xCols, boruta.ranking_))\n",
        "sorted(featureRanks, key=lambda x: x[1])"
      ],
      "metadata": {
        "id": "TX0RtDOaC4yS"
      },
      "execution_count": null,
      "outputs": []
    },
    {
      "cell_type": "markdown",
      "source": [
        "The top ranking variables from our Boruta Algorithm are the Box-Cox Transformation of Offensive and Defensive Rushing Yards as well as MOT and Defensive 1st Downs Allowed. Going forward it would be prudent to work with one of these 4 explanatory variables, and we will use Mallows CP in order to come to a clearer solution."
      ],
      "metadata": {
        "id": "fBs25oNbZ9jb"
      }
    },
    {
      "cell_type": "markdown",
      "metadata": {
        "cell_id": "17f65db4b66f4d3f80ff05b42dfd0348",
        "deepnote_cell_type": "markdown",
        "id": "AxDOD2n4grDm"
      },
      "source": [
        "## (b) Using Mallows Cp identify the top 2 predictors"
      ]
    },
    {
      "cell_type": "code",
      "source": [
        "pip install RegscorePy"
      ],
      "metadata": {
        "id": "-jeWwdQU4tz5"
      },
      "execution_count": null,
      "outputs": []
    },
    {
      "cell_type": "code",
      "execution_count": null,
      "metadata": {
        "cell_id": "c7f5932b72434452bf4b4c4cc29f470f",
        "deepnote_cell_type": "code",
        "deepnote_to_be_reexecuted": false,
        "execution_millis": 12,
        "execution_start": 1697917904838,
        "source_hash": "253358e3",
        "id": "fD5Z-yh5grDm"
      },
      "outputs": [],
      "source": [
        "from RegscorePy import mallow"
      ]
    },
    {
      "cell_type": "code",
      "execution_count": null,
      "metadata": {
        "cell_id": "05cf527f7c1540c48d96113a754d85b0",
        "deepnote_cell_type": "code",
        "deepnote_to_be_reexecuted": false,
        "execution_millis": 326,
        "execution_start": 1697918111965,
        "source_hash": "27a1f14",
        "id": "Hwzi45sGgrDn"
      },
      "outputs": [],
      "source": [
        "model = smf.ols(formula='(MOV) ~ MOT + O1stD + BCORY + D1stD + BCDRY', data=eagles)\n",
        "results = model.fit(cov_type='HC1')\n",
        "results.summary()"
      ]
    },
    {
      "cell_type": "code",
      "execution_count": null,
      "metadata": {
        "cell_id": "31a7b655bcce44f4b258e5257bc2d265",
        "deepnote_cell_type": "code",
        "id": "4_W3ymvugrDn"
      },
      "outputs": [],
      "source": [
        "import itertools\n",
        "\n",
        "model = smf.ols(formula='MOV ~ MOT + O1stD + BCORY + D1stD + BCDRY', data=eagles)\n",
        "results = model.fit()\n",
        "y = eagles['MOV']\n",
        "y_pred=results.fittedvalues\n",
        "\n",
        "\n",
        "storage_cp = pd.DataFrame(columns = [\"Variables\", \"CP\"])\n",
        "k = 8\n",
        "\n",
        "for L in range(1, len(r_vars.columns[0:]) + 1):\n",
        "    for subset in itertools.combinations(r_vars.columns[0:], L):\n",
        "\n",
        "        formula1 = 'MOV~'+'+'.join(subset)\n",
        "\n",
        "        results = smf.ols(formula=formula1, data = eagles).fit()\n",
        "        y_sub = results.fittedvalues\n",
        "        p = len(subset)+1\n",
        "\n",
        "        cp = mallow.mallow(y, y_pred,y_sub, k, p)\n",
        "\n",
        "        storage_cp = storage_cp._append({'Variables': subset, 'CP': cp}, ignore_index = True)"
      ]
    },
    {
      "cell_type": "code",
      "execution_count": null,
      "metadata": {
        "cell_id": "b0c3a4a831de4796a44f7bb8c56d9261",
        "deepnote_cell_type": "code",
        "id": "6F9bMcFcgrDn"
      },
      "outputs": [],
      "source": [
        "pd.set_option('display.max_columns', 2)\n",
        "pd.set_option('display.max_rows', 127)\n",
        "storage_cp.sort_values(by = \"CP\")"
      ]
    },
    {
      "cell_type": "markdown",
      "source": [
        "Based on the Mallows CP report we find that our best predictors of Margin of Victory (MOV) are Margin of Turnover (MOT) and Defensive 1st Downs Allowed (D1stD). We still observe very large Mallows CP values with these single explanatory variables relative to multivariable regression models.  "
      ],
      "metadata": {
        "id": "RAkib4S1arXB"
      }
    },
    {
      "cell_type": "code",
      "execution_count": null,
      "metadata": {
        "cell_id": "d5393129f2ac4e9faff78a297f983533",
        "deepnote_cell_type": "code",
        "deepnote_to_be_reexecuted": false,
        "execution_millis": 14,
        "execution_start": 1697918379635,
        "source_hash": "2311102e",
        "id": "xkS36n6IgrDn"
      },
      "outputs": [],
      "source": [
        "# The top two variables are MOT and D1stD based on the Mallow CP report"
      ]
    },
    {
      "cell_type": "markdown",
      "metadata": {
        "cell_id": "9e8ad8202e424e47a9bd78baaf36c6ef",
        "deepnote_cell_type": "text-cell-p",
        "formattedRanges": [],
        "id": "or4RZar0grDn"
      },
      "source": [
        "# 3. Model Building: Explore several competing OLS models (based on part 2) and decide on one model only (with just one predictor). You will need to explain in detail how you arrived at your preferred model. Discuss the economic significance of your parameters, and overall findings. Make sure you discuss your main conclusions and recommendations. At a minimum. you need to include the following checks:"
      ]
    },
    {
      "cell_type": "code",
      "source": [
        "# Specify the Model\n",
        "ols_mod = smf.ols(formula='MOV ~ MOT', data = eagles)\n",
        "\n",
        "# Fit the Model\n",
        "ols_fit = ols_mod.fit()\n",
        "# Type: dir(ols_fit) to look at other accessible attributes\n",
        "\n",
        "# Look at the Model Fit Summary\n",
        "print(ols_fit.summary())\n"
      ],
      "metadata": {
        "id": "-qTR6J7m6j1G"
      },
      "execution_count": null,
      "outputs": []
    },
    {
      "cell_type": "code",
      "source": [
        "pip install simple_colors"
      ],
      "metadata": {
        "id": "CYteoM_n7uP9"
      },
      "execution_count": null,
      "outputs": []
    },
    {
      "cell_type": "code",
      "source": [
        "# Evaluating the model\n",
        "import statsmodels.stats.api as sms\n",
        "from simple_colors import *\n",
        "\n",
        "# Linearity: Harvey-Collier --> Ho: model is linear\n",
        "name = [\"t-stat\", \"p-value\"]\n",
        "test = sms.linear_harvey_collier(ols_fit)\n",
        "print(blue(\"Linearity Test Results:\",['bold']))\n",
        "print(list(zip(name, test)))\n",
        "print(\"\\n\")\n",
        "\n",
        "# Normaility of the Residuals: Jarque-Bera --> Residuals ~ N(0,1)\n",
        "name = [\"Jarque-Bera\", \"Chi^2 two-tail prob.\", \"Skew\", \"Kurtosis\"]\n",
        "test = sms.jarque_bera(ols_fit.resid)\n",
        "print(blue(\"JB Results:\",['bold']))\n",
        "print(list(zip(name, test)))\n",
        "print(\"\\n\")\n",
        "\n",
        "# Heteroskedasticity: Breush-Pagan --> Ho: var = constant\n",
        "name = [\"Lagrange multiplier statistic\", \"p-value\", \"f-value\", \"f p-value\"]\n",
        "test = sms.het_breuschpagan(ols_fit.resid, ols_fit.model.exog)\n",
        "print(blue(\"BP Results:\",['bold']))\n",
        "print(list(zip(name, test)))"
      ],
      "metadata": {
        "id": "5txSF7ns7RhB"
      },
      "execution_count": null,
      "outputs": []
    },
    {
      "cell_type": "code",
      "source": [
        "# Test for normality of residuals - JB test\n",
        "stats.jarque_bera(ols_fit.resid)"
      ],
      "metadata": {
        "id": "-CloAtI7793E"
      },
      "execution_count": null,
      "outputs": []
    },
    {
      "cell_type": "markdown",
      "source": [
        "Based on the output for the test for linearity, since the p-value is > alpha 0.05 we fail to reject the hull and conclude that the model is linear\n",
        "\n",
        "As for normality test, the JB Results show that the errors are normally distributed because the p-value is > alpha 0.05 even though the JB score = 1.8 which is > 1 (kurtosis is 3.2..., skewness is 0.2)\n",
        "\n",
        "For Heteroskedasticity we observe that it is not possible to reject the null hypothesis that the variance is constant. This is due to the high p-value, and as such we can be fairly confident that as there is an increase in x there may be no observable increase in the variance of y."
      ],
      "metadata": {
        "id": "neVQLpXg9FME"
      }
    },
    {
      "cell_type": "code",
      "source": [
        "# Diagnostic plots of ols fit\n",
        "figD = sm.graphics.plot_regress_exog(ols_fit, \"MOT\")\n",
        "figD.set_figheight(10)\n",
        "figD.set_figwidth(8)\n",
        "plt.show()"
      ],
      "metadata": {
        "id": "3NX9spPX9rRH"
      },
      "execution_count": null,
      "outputs": []
    },
    {
      "cell_type": "markdown",
      "source": [
        "The subset testing below finds the lowest single predictor regression models as according to Mallow's Cp. One may refer to the table above to confirm the results."
      ],
      "metadata": {
        "id": "_O5HIjFVeq6Z"
      }
    },
    {
      "cell_type": "code",
      "execution_count": null,
      "metadata": {
        "cell_id": "7e67068417384670b64ba05712b623d7",
        "deepnote_cell_type": "code",
        "id": "-Uaa06MsgrDn"
      },
      "outputs": [],
      "source": [
        "model = smf.ols(formula='(MOV) ~ MOT + O1stD + BCORY + D1stD + BCDRY + Home_Games', data=eagles)\n",
        "results = model.fit()\n",
        "y = (eagles['MOV'])\n",
        "y_pred=results.fittedvalues\n",
        "\n",
        "# Using subset size =1\n",
        "mr_sub = smf.ols(formula='(MOV) ~ MOT', data=eagles)\n",
        "mr_sub_fit = mr_sub.fit()\n",
        "y_sub=mr_sub_fit.fittedvalues\n",
        "\n",
        "k = 8 # number of parameters in orginal model (includes y-intercept)\n",
        "p = 3 # number of parameters in the subset model (includes y-intercept)\n",
        "\n",
        "mallow.mallow(y, y_pred,y_sub, k, p)"
      ]
    },
    {
      "cell_type": "code",
      "execution_count": null,
      "metadata": {
        "cell_id": "26af1475801142918783e751b363a17a",
        "deepnote_cell_type": "code",
        "id": "jDjd12UugrDn"
      },
      "outputs": [],
      "source": [
        "model = smf.ols(formula='(MOV) ~ MOT + O1stD + BCORY + D1stD + BCDRY + Home_Games', data=eagles)\n",
        "results = model.fit()\n",
        "y = (eagles['MOV'])\n",
        "y_pred=results.fittedvalues\n",
        "\n",
        "# Using subset size =1\n",
        "mr_sub = smf.ols(formula='(MOV) ~ D1stD', data=eagles)\n",
        "mr_sub_fit = mr_sub.fit()\n",
        "y_sub=mr_sub_fit.fittedvalues\n",
        "\n",
        "k = 8 # number of parameters in orginal model (includes y-intercept)\n",
        "p = 3 # number of parameters in the subset model (includes y-intercept)\n",
        "\n",
        "mallow.mallow(y, y_pred,y_sub, k, p)"
      ]
    },
    {
      "cell_type": "markdown",
      "metadata": {
        "id": "XwTkpXzggrDn"
      },
      "source": [
        "Using the results of the Mallow's CP the results showed that the best model with one predictor was MOV ~ MOT, followed by MOV~ D1stD. We tested the two models and found the first one had the lowest result, so we chose that as the best model with one predictor.\n",
        "\n",
        "\n"
      ]
    },
    {
      "cell_type": "markdown",
      "source": [
        "Look at Cook’s distance Plot, Residuals Plot"
      ],
      "metadata": {
        "id": "8iKswumXfC0v"
      }
    },
    {
      "cell_type": "code",
      "execution_count": null,
      "metadata": {
        "id": "sta5U-z9grDo"
      },
      "outputs": [],
      "source": [
        "Turnover = smf.ols(formula='MOV ~ MOT', data=eagles)\n",
        "T_results = Turnover.fit(cov_type='HC1')\n",
        "print(T_results.summary())\n",
        "T_results.resid.mean()"
      ]
    },
    {
      "cell_type": "code",
      "execution_count": null,
      "metadata": {
        "id": "q2d6E-n-grDo"
      },
      "outputs": [],
      "source": [
        "sns.residplot(x='MOT', y='MOV', data=eagles,\n",
        "              lowess=True, line_kws={'color':'red', 'lw':2, 'alpha':0.6})\n",
        "plt.xlabel('Fitted Values')\n",
        "plt.title('Residuals Plot')\n",
        "plt.show"
      ]
    },
    {
      "cell_type": "markdown",
      "source": [
        "We can find that towards the end of the graph we find signficant high leverage observations in which the MOT shows a negative value but the MOV still remains quite high. These negative observations seem to heavily affect the residuals of the regression, even though it can be expected that a positive turnover margin would result a postive margin of victory."
      ],
      "metadata": {
        "id": "bGGfKbJUfMr4"
      }
    },
    {
      "cell_type": "code",
      "execution_count": null,
      "metadata": {
        "id": "3QoNO6TcgrDo"
      },
      "outputs": [],
      "source": [
        "student_resid=T_results.get_influence().resid_studentized\n",
        "df=len(student_resid)-4\n",
        "t_dist=stats.t(df)\n",
        "sm.qqplot(student_resid, line='45', dist=t_dist)\n",
        "plt.grid()"
      ]
    },
    {
      "cell_type": "markdown",
      "source": [
        "In this QQ plot of the studentized residuals we see 7 observations that fall outside an absolute standard deviation of 2 from the mean."
      ],
      "metadata": {
        "id": "-MdzmjK1iwzW"
      }
    },
    {
      "cell_type": "code",
      "execution_count": null,
      "metadata": {
        "id": "TF0lWH4cgrDo"
      },
      "outputs": [],
      "source": [
        "leverage=T_results.get_influence().hat_matrix_diag\n",
        "\n",
        "plt.figure(figsize=(12,6))\n",
        "plt.scatter(eagles.index,leverage)\n",
        "plt.axhline(0,color='red')\n",
        "plt.vlines(x=eagles.index, ymin=0,ymax=leverage)\n",
        "plt.xlabel('Index')\n",
        "plt.ylabel('Leverage')\n",
        "plt.title('Diagnostic plot')\n",
        "plt.show()"
      ]
    },
    {
      "cell_type": "code",
      "execution_count": null,
      "metadata": {
        "id": "uF_NWqavgrDo"
      },
      "outputs": [],
      "source": [
        "cooks_distance=T_results.get_influence().cooks_distance\n",
        "\n",
        "plt.figure(figsize=(12,6))\n",
        "plt.scatter(eagles.index,cooks_distance[0])\n",
        "plt.axhline(0,color='red')\n",
        "plt.vlines(x=eagles.index, ymin=0,ymax=cooks_distance[0])\n",
        "plt.xlabel('Index')\n",
        "plt.ylabel('Cook\\'s Distance')\n",
        "plt.title('Diagnostic plot')\n",
        "plt.show()"
      ]
    },
    {
      "cell_type": "code",
      "execution_count": null,
      "metadata": {
        "id": "e-ZF00wigrDo"
      },
      "outputs": [],
      "source": [
        "fig, ax= plt.subplots(figsize=(10,5))\n",
        "fig=sm.graphics.influence_plot(T_results, ax=ax, criterion='cooks')"
      ]
    },
    {
      "cell_type": "markdown",
      "metadata": {
        "cell_id": "b2a061cce060406f8ffbd543feb3208f",
        "deepnote_cell_type": "markdown",
        "id": "kJbufb-0grDo"
      },
      "source": [
        "## Evaluate transformations of variables"
      ]
    },
    {
      "cell_type": "code",
      "execution_count": null,
      "metadata": {
        "id": "qJyZlU9pgrDo"
      },
      "outputs": [],
      "source": []
    },
    {
      "cell_type": "markdown",
      "metadata": {
        "cell_id": "0442345aa2094617ae60d95767261928",
        "deepnote_cell_type": "markdown",
        "id": "j2ueXvtMgrDo"
      },
      "source": [
        "## Evaluate the robustness of your coefficient estimates by bootstrapping your model. Provide a histogram of the bootstrapped estimates (including R^2), and comment on the findings. In particular how do these estimates compare against your LS estimates?"
      ]
    },
    {
      "cell_type": "code",
      "source": [
        "from sklearn.linear_model import LinearRegression"
      ],
      "metadata": {
        "id": "P_2Jxi2E51nA"
      },
      "execution_count": null,
      "outputs": []
    },
    {
      "cell_type": "code",
      "source": [
        "coefs=pd.DataFrame(columns=['B0','B1'])\n",
        "\n",
        "for i in range(1000):\n",
        "  sample = eagles.sample(eagles.shape[0], replace=True)\n",
        "  results=smf.ols('MOV~MOT', sample).fit()\n",
        "  b0,b1=results.params\n",
        "  coefs=coefs._append({'B0':b0, 'B1':b1}, ignore_index=True)\n",
        "\n",
        "b0_u, b1_u = coefs.quantile(.975)\n",
        "\n",
        "# the 2.5 percentile of the bootstrap sample statistics\n",
        "b0_l, b1_l = coefs.quantile(.025)\n",
        "\n"
      ],
      "metadata": {
        "id": "vUHId7RE7Unl"
      },
      "execution_count": null,
      "outputs": []
    },
    {
      "cell_type": "code",
      "source": [
        "coefs.B0.hist()\n",
        "plt.xlabel(\"Bootstrap Intercepts\")\n",
        "plt.ylabel(\"Frequency\")\n",
        "plt.axvline(b0_u, color = \"red\")\n",
        "plt.axvline(b0_l, color = \"red\")"
      ],
      "metadata": {
        "id": "hMupn1OixGSO"
      },
      "execution_count": null,
      "outputs": []
    },
    {
      "cell_type": "code",
      "source": [
        "coefs.B1.hist()\n",
        "plt.xlabel(\"Bootstrap Intercepts\")\n",
        "plt.ylabel('Frequency')\n",
        "plt.axvline(b1_u, color = 'red')\n",
        "plt.axvline(b1_l, color = 'red')"
      ],
      "metadata": {
        "id": "bS9fcm0HmPI-"
      },
      "execution_count": null,
      "outputs": []
    },
    {
      "cell_type": "code",
      "source": [],
      "metadata": {
        "id": "aG_YVL-xm2Sk"
      },
      "execution_count": null,
      "outputs": []
    },
    {
      "cell_type": "markdown",
      "source": [
        "## Confidence intervals"
      ],
      "metadata": {
        "id": "yxfHWTv7m13N"
      }
    },
    {
      "cell_type": "code",
      "execution_count": null,
      "metadata": {
        "id": "Ifgy1jSMgrDp"
      },
      "outputs": [],
      "source": [
        "from scipy.stats import bootstrap\n",
        "\n",
        "def reg_boot_b1(x,y):\n",
        "\n",
        "    x = x.reshape((len(x),1))\n",
        "    y = y.reshape((len(x),1))\n",
        "    reg = LinearRegression().fit(x,y)\n",
        "\n",
        "    return reg.coef_[0][0]\n",
        "\n",
        "def reg_boot_intercept(x,y):\n",
        "\n",
        "    x = x.reshape((len(x),1))\n",
        "    y = y.reshape((len(x),1))\n",
        "    reg = LinearRegression().fit(x,y)\n",
        "\n",
        "    return reg.intercept_[0]\n",
        "\n",
        "X = eagles.MOT\n",
        "Y = eagles.MOV\n",
        "res = bootstrap((X,Y), reg_boot_b1, confidence_level=0.95, vectorized=False, method='BCa',\n",
        "              paired=True)\n",
        "print(res.confidence_interval)"
      ]
    },
    {
      "cell_type": "markdown",
      "source": [
        "With a 95% CI we are confident that the estimated reg_boot_b1 (beta 1) falls between (3.540241015898647, 5.526534689378149)"
      ],
      "metadata": {
        "id": "KFrcZSlozYNU"
      }
    },
    {
      "cell_type": "code",
      "source": [
        "res = bootstrap((X,Y), reg_boot_intercept, confidence_level=0.95, vectorized=False, method='BCa',\n",
        "              paired=True)\n",
        "print(res.confidence_interval)"
      ],
      "metadata": {
        "id": "p8y43eU50Dhm"
      },
      "execution_count": null,
      "outputs": []
    },
    {
      "cell_type": "markdown",
      "source": [
        "With a 95% CI we are confident that the estimated reg_boot_intercept (beta 0) falls between (1.0055391051206657, 4.604349878033104)"
      ],
      "metadata": {
        "id": "KuHFcx252WAr"
      }
    },
    {
      "cell_type": "code",
      "source": [],
      "metadata": {
        "id": "ASNd0iCAD5WD"
      },
      "execution_count": null,
      "outputs": []
    },
    {
      "cell_type": "markdown",
      "metadata": {
        "cell_id": "d6c8008970914fc6abf41a4032e11df9",
        "deepnote_cell_type": "markdown",
        "deepnote_to_be_reexecuted": true,
        "source_hash": "3aaebf0b",
        "id": "EC70ZmJ5grDp"
      },
      "source": [
        "## Use cross-validation to evaluate your model’s performance\n"
      ]
    },
    {
      "cell_type": "code",
      "execution_count": null,
      "metadata": {
        "id": "U3BJtFiFgrDp"
      },
      "outputs": [],
      "source": [
        "import numpy as np\n",
        "from sklearn.model_selection import train_test_split\n",
        "from sklearn import linear_model\n",
        "from sklearn.linear_model import LinearRegression\n",
        "from sklearn import metrics\n",
        "from sklearn.model_selection import cross_val_score\n",
        "\n",
        "x = eagles[['MOV']]\n",
        "y = eagles[['MOT']]\n",
        "# Perform an OLS fit using all the data\n",
        "regr = LinearRegression()\n",
        "model = regr.fit(x,y)\n",
        "regr.coef_\n",
        "regr.intercept_\n",
        "\n",
        "# Split the data into train  (70%)/test(30%) samples:\n",
        "x_train, x_test, y_train, y_test = train_test_split(x, y, test_size=0.3, random_state=0)\n",
        "\n",
        "# Train the model:\n",
        "regr = LinearRegression()\n",
        "regr.fit(x_train, y_train)\n",
        "\n",
        "# Make predictions based on the test sample\n",
        "y_pred = regr.predict(x_test)\n",
        "\n",
        "# Evaluate Performance\n",
        "\n",
        "print('MAE:', metrics.mean_absolute_error(y_test, y_pred))\n",
        "print('MSE:', metrics.mean_squared_error(y_test, y_pred))\n",
        "print('RMSE:', np.sqrt(metrics.mean_squared_error(y_test, y_pred)))\n",
        "\n",
        "# Perform a 5-fold CV\n",
        "# Use MSE as the scoring function (there are other options as shown here:\n",
        "# https://scikit-learn.org/stable/modules/model_evaluation.html\n",
        "\n",
        "regr = linear_model.LinearRegression()\n",
        "scores = cross_val_score(regr, x, y, cv=5, scoring='neg_root_mean_squared_error')\n",
        "print('5-Fold CV RMSE Scores:', scores)"
      ]
    },
    {
      "cell_type": "markdown",
      "metadata": {
        "cell_id": "3dccbc892c3a44d3b5266b3c394a4b06",
        "deepnote_cell_type": "markdown",
        "id": "c4GWEiicgrDp"
      },
      "source": [
        "## Write a conclusion about the findings here:\n",
        "\n",
        "Root Mean Squared Error (RMSE), which measures the average prediction error made by the model in predicting the outcome for an observation. That is, the average difference between the observed known outcome values and the values predicted by the model. The lower the RMSE, the better the model\n"
      ]
    },
    {
      "cell_type": "markdown",
      "metadata": {
        "cell_id": "230cbc4ee3d045f090a139df6e6a4237",
        "deepnote_cell_type": "text-cell-p",
        "formattedRanges": [],
        "id": "UdfU2S7BgrDp"
      },
      "source": [
        "Bootstrapping (include the graphs).\n",
        "\n",
        "Cullen and Frey Graphs (choose which method of display we want, using fitter or not)\n",
        "\n",
        "Evaluate Transformation of Variables,\n",
        "Explanation for each code chunk\n",
        "Add plots for outliers as well (do we need to use the method with R?)\n"
      ]
    },
    {
      "cell_type": "markdown",
      "metadata": {
        "cell_id": "095f0051b41e47b68a99b2b153523b54",
        "deepnote_cell_type": "text-cell-p",
        "formattedRanges": [],
        "id": "YkV6H6PBgrDp"
      },
      "source": [
        "Getting Mallows CP(not showing a graph, could only work in R) to work inside an R environment"
      ]
    }
  ],
  "metadata": {
    "deepnote": {},
    "deepnote_execution_queue": [],
    "deepnote_notebook_id": "ecb7b3c95fff4f148d44dbd7d5b0f420",
    "kernelspec": {
      "display_name": "Python 3",
      "name": "python3"
    },
    "language_info": {
      "codemirror_mode": {
        "name": "ipython",
        "version": 3
      },
      "file_extension": ".py",
      "mimetype": "text/x-python",
      "name": "python",
      "nbconvert_exporter": "python",
      "pygments_lexer": "ipython3",
      "version": "3.11.4"
    },
    "colab": {
      "provenance": [],
      "private_outputs": true
    }
  },
  "nbformat": 4,
  "nbformat_minor": 0
}